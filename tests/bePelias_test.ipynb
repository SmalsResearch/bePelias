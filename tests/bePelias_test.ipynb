{
 "cells": [
  {
   "cell_type": "code",
   "execution_count": null,
   "metadata": {
    "ExecuteTime": {
     "end_time": "2023-06-23T09:25:25.537820Z",
     "start_time": "2023-06-23T09:25:25.531915Z"
    }
   },
   "outputs": [],
   "source": [
    "import pandas as pd\n",
    "import urllib\n",
    "\n",
    "import numpy as np\n",
    "\n",
    "import json\n",
    "\n",
    "from tqdm.autonotebook import tqdm\n",
    "\n",
    "#%matplotlib inline\n",
    "\n",
    "tqdm.pandas()\n",
    "\n",
    "import dask.dataframe as dd\n",
    "\n",
    "# from dask.multiprocessing import get\n",
    "from dask.diagnostics import ProgressBar\n",
    "\n",
    "from datetime import datetime\n",
    "import matplotlib.pyplot as plt\n",
    "\n",
    "from IPython.display import display\n",
    "import requests\n",
    "\n",
    "try: \n",
    "    import seaborn as sbn\n",
    "except ModuleNotFoundError: \n",
    "    print(\"Seaborn not installed, limiting plotting quality\")"
   ]
  },
  {
   "cell_type": "markdown",
   "metadata": {
    "ExecuteTime": {
     "end_time": "2020-05-06T13:50:43.162875Z",
     "start_time": "2020-05-06T13:50:43.151794Z"
    }
   },
   "source": [
    "# Functions"
   ]
  },
  {
   "cell_type": "code",
   "execution_count": 14,
   "metadata": {
    "ExecuteTime": {
     "end_time": "2023-06-23T09:25:25.733437Z",
     "start_time": "2023-06-23T09:25:25.687984Z"
    }
   },
   "outputs": [],
   "source": [
    "ws_hostname = \"172.27.0.64:4001\" # bePelias hostname:port\n",
    "\n",
    "street_field  =  \"streetName\"\n",
    "housenbr_field = \"houseNumber\"\n",
    "postcode_field = \"postCode\"\n",
    "city_field  =    \"postName\"\n",
    "\n",
    "filename = \"data.csv\" # A csv file with as header \"streetName,houseNumber,postCode,postName\""
   ]
  },
  {
   "cell_type": "code",
   "execution_count": 15,
   "metadata": {
    "ExecuteTime": {
     "end_time": "2023-06-23T09:25:25.839217Z",
     "start_time": "2023-06-23T09:25:25.777974Z"
    }
   },
   "outputs": [],
   "source": [
    "def call_ws(addr_data, mode=\"advanced\"):\n",
    "    t = datetime.now()\n",
    "    \n",
    "    if isinstance(addr_data, pd.Series):\n",
    "        addr_data = addr_data.to_dict()\n",
    "        \n",
    "    \n",
    "    addr_data[\"mode\"]=mode       \n",
    "    addr_data[\"withPeliasResult\"]=True\n",
    "    try: \n",
    "        r = requests.get(\n",
    "        f'http://{ws_hostname}/REST/bepelias/v1/geocode',\n",
    "            params=addr_data)\n",
    "        \n",
    "\n",
    "    except Exception as e:\n",
    "        print(\"Exception !\")\n",
    "        print(addr_data)\n",
    "        print(e)\n",
    "        raise e\n",
    "        \n",
    "    if r.status_code == 204:\n",
    "        print(\"No result!\")\n",
    "        print(addr_data)\n",
    "        print(r.text)\n",
    "        return\n",
    "    elif r.status_code == 400:\n",
    "        print(\"Argument error\")\n",
    "        print(r.text)\n",
    "    elif r.status_code == 200:\n",
    "        try:\n",
    "            res = json.loads(r.text)\n",
    "            res[\"time\"] = (datetime.now() - t).total_seconds()\n",
    "        except ValueError as ve:\n",
    "\n",
    "            print(\"Cannot decode result:\")\n",
    "            print(ve)\n",
    "            print(r.text)\n",
    "            return r.text\n",
    "        return res\n",
    "    else: \n",
    "        print(f\"Unknown return code: {r.status_code} \")\n",
    "        print(r.text)\n",
    "\n"
   ]
  },
  {
   "cell_type": "code",
   "execution_count": 16,
   "metadata": {},
   "outputs": [],
   "source": [
    "def call_ws_by_id(best_id): \n",
    "    t = datetime.now()\n",
    "    \n",
    "    if best_id is None:\n",
    "        return None\n",
    "       \n",
    "    try: \n",
    "        url = f'http://{ws_hostname}/REST/bepelias/v1/id/{urllib.parse.quote_plus(urllib.parse.quote_plus(best_id))}'\n",
    "        r = requests.get(url)\n",
    "        \n",
    "\n",
    "    except Exception as e:\n",
    "        print(\"Exception !\")\n",
    "        print(best_id)\n",
    "        print(e)\n",
    "        raise e\n",
    "        \n",
    "    if r.status_code == 204:\n",
    "        # print(\"No result!\")\n",
    "        # print(addr_data)\n",
    "        # print(r.text)\n",
    "        return\n",
    "    elif r.status_code == 400:\n",
    "        print(\"Argument error\")\n",
    "        print(r.text)\n",
    "    elif r.status_code == 200:\n",
    "        try:\n",
    "            res = json.loads(r.text)\n",
    "        except ValueError as ve:\n",
    "\n",
    "            print(\"Cannot decode result:\")\n",
    "            print(ve)\n",
    "            print(r.text)\n",
    "            return r.text\n",
    "        except AttributeError as ae:\n",
    "            print(ae)\n",
    "            print(type(r.text))\n",
    "            print(r.text)\n",
    "        return res\n",
    "    else: \n",
    "        print(f\"Unknown return code: {r.status_code} \")\n",
    "        print(r.text)\n",
    "\n"
   ]
  },
  {
   "cell_type": "code",
   "execution_count": 17,
   "metadata": {},
   "outputs": [],
   "source": [
    "def call_ws_search_city(postcode=None, postname=None):\n",
    "    t = datetime.now()\n",
    "    \n",
    "    data = {\"postCode\": postcode,\n",
    "           \"postName\": postname,\n",
    "           \"raw\":True\n",
    "           }\n",
    "    \n",
    "    try: \n",
    "        r = requests.get(\n",
    "        f'http://{ws_hostname}/REST/bepelias/v1/searchCity',\n",
    "            params=data)\n",
    "\n",
    "    except Exception as e:\n",
    "        print(\"Exception !\")\n",
    "        print(e)\n",
    "        raise e\n",
    "        \n",
    "    if r.status_code == 204:\n",
    "        # print(\"No result!\")\n",
    "        # print(addr_data)\n",
    "        # print(r.text)\n",
    "        return\n",
    "    elif r.status_code == 400:\n",
    "        print(\"Argument error\")\n",
    "        print(r.text)\n",
    "    elif r.status_code == 200:\n",
    "        try:\n",
    "            res = json.loads(r.text)\n",
    "            # res[\"time\"] = (datetime.now() - t).total_seconds()\n",
    "        except ValueError as ve:\n",
    "\n",
    "            print(\"Cannot decode result:\")\n",
    "            print(ve)\n",
    "            print(r.text)\n",
    "            return r.text\n",
    "        except AttributeError as ae:\n",
    "            print(ae)\n",
    "            print(type(r.text))\n",
    "            print(r.text)\n",
    "        return res\n",
    "    else: \n",
    "        print(f\"Unknown return code: {r.status_code} \")\n",
    "        print(r.text)\n",
    "\n"
   ]
  },
  {
   "cell_type": "code",
   "execution_count": 18,
   "metadata": {},
   "outputs": [],
   "source": [
    "def call_ws_reverse(lat=None, lon=None): #lg = \"en,fr,nl\"\n",
    "    t = datetime.now()\n",
    "    \n",
    "    data = {\"lat\": lat,\n",
    "           \"lon\": lon,\n",
    "           \"radius\":0.01,\n",
    "           \"size\":1\n",
    "           }\n",
    "    \n",
    "    try: \n",
    "        r = requests.get(\n",
    "        f'http://{ws_hostname}/REST/bepelias/v1/reverse',\n",
    "            params=data)\n",
    "\n",
    "    except Exception as e:\n",
    "        print(\"Exception !\")\n",
    "        print(e)\n",
    "        raise e\n",
    "        \n",
    "    if r.status_code == 204:\n",
    "        # print(\"No result!\")\n",
    "        # print(addr_data)\n",
    "        # print(r.text)\n",
    "        return\n",
    "    elif r.status_code == 400:\n",
    "        print(\"Argument error\")\n",
    "        print(r.text)\n",
    "    elif r.status_code == 200:\n",
    "        try:\n",
    "            res = json.loads(r.text)\n",
    "            # res[\"time\"] = (datetime.now() - t).total_seconds()\n",
    "        except ValueError as ve:\n",
    "\n",
    "            print(\"Cannot decode result:\")\n",
    "            print(ve)\n",
    "            print(r.text)\n",
    "            return r.text\n",
    "        except AttributeError as ae:\n",
    "            print(ae)\n",
    "            print(type(r.text))\n",
    "            print(r.text)\n",
    "        return res\n",
    "    else: \n",
    "        print(f\"Unknown return code: {r.status_code} \")\n",
    "        print(r.text)\n",
    "\n"
   ]
  },
  {
   "cell_type": "code",
   "execution_count": null,
   "metadata": {},
   "outputs": [],
   "source": []
  },
  {
   "cell_type": "code",
   "execution_count": 19,
   "metadata": {},
   "outputs": [],
   "source": [
    "def get(dct, keys):\n",
    "    for k in keys:\n",
    "        try: \n",
    "            if  dct is None:\n",
    "                return None\n",
    "                # print(init_dct)\n",
    "\n",
    "            dct = dct[k]\n",
    "        except KeyError :\n",
    "            return None\n",
    "        except IndexError:\n",
    "            return None\n",
    "    return dct"
   ]
  },
  {
   "cell_type": "markdown",
   "metadata": {},
   "source": [
    "# Calls"
   ]
  },
  {
   "cell_type": "markdown",
   "metadata": {
    "ExecuteTime": {
     "end_time": "2020-09-30T09:57:35.286293Z",
     "start_time": "2020-09-30T09:57:35.281457Z"
    }
   },
   "source": [
    "## Single address calls"
   ]
  },
  {
   "cell_type": "code",
   "execution_count": null,
   "metadata": {
    "ExecuteTime": {
     "end_time": "2023-06-23T09:25:26.083550Z",
     "start_time": "2023-06-23T09:25:25.997838Z"
    },
    "scrolled": true
   },
   "outputs": [],
   "source": [
    "res=call_ws({\n",
    "        street_field:   \"Avenue Fonsny\", \\\n",
    "         housenbr_field: \"20\",\\\n",
    "         city_field:     \"Saint-Gilles\",\\\n",
    "         postcode_field: \"1060\"})\n",
    "res"
   ]
  },
  {
   "cell_type": "code",
   "execution_count": null,
   "metadata": {},
   "outputs": [],
   "source": []
  },
  {
   "cell_type": "markdown",
   "metadata": {},
   "source": [
    "## Batch calls (row by row)"
   ]
  },
  {
   "cell_type": "code",
   "execution_count": null,
   "metadata": {
    "ExecuteTime": {
     "end_time": "2023-06-23T09:25:27.051668Z",
     "start_time": "2023-06-23T09:25:27.016765Z"
    },
    "tags": []
   },
   "outputs": [],
   "source": [
    "addresses = pd.read_csv(filename)\n",
    "addresses"
   ]
  },
  {
   "cell_type": "code",
   "execution_count": 22,
   "metadata": {
    "ExecuteTime": {
     "end_time": "2023-06-23T09:25:27.099425Z",
     "start_time": "2023-06-23T09:25:27.053179Z"
    }
   },
   "outputs": [],
   "source": [
    "# addresses = addresses.sample(10000)"
   ]
  },
  {
   "cell_type": "code",
   "execution_count": 23,
   "metadata": {
    "ExecuteTime": {
     "end_time": "2023-06-23T09:25:27.150427Z",
     "start_time": "2023-06-23T09:25:27.100858Z"
    }
   },
   "outputs": [],
   "source": [
    "iter_per_sec_stats={}"
   ]
  },
  {
   "cell_type": "markdown",
   "metadata": {},
   "source": [
    "\n",
    "### Simple way"
   ]
  },
  {
   "cell_type": "code",
   "execution_count": null,
   "metadata": {
    "ExecuteTime": {
     "end_time": "2023-06-23T09:27:56.556615Z",
     "start_time": "2023-06-23T09:25:27.194064Z"
    },
    "scrolled": true
   },
   "outputs": [],
   "source": [
    "addresses_seq = addresses.copy()\n",
    "\n",
    "t = datetime.now()\n",
    "addresses_seq[\"json\"] = addresses_seq[[street_field, housenbr_field, postcode_field, city_field]].fillna(\"\").progress_apply(call_ws,\n",
    "                                                                mode=\"advanced\", axis=1)\n",
    "tot_time = (datetime.now() - t).total_seconds()\n",
    "\n",
    "ips=addresses_seq.shape[0]/tot_time\n",
    "iter_per_sec_stats[\"sequential\"] = ips\n",
    "print(f\"{tot_time:.2f} seconds, {ips:.2f} it/s\")\n",
    "\n",
    "\n",
    "addresses_seq"
   ]
  },
  {
   "cell_type": "code",
   "execution_count": null,
   "metadata": {},
   "outputs": [],
   "source": [
    "addresses_seq[\"best_id\"] = addresses_seq.json.apply(lambda r: get(r, [\"items\", 0, \"bestId\"]) or\\\n",
    "                                                              get(r, [\"items\", 0, \"street\", \"id\"]) or\\\n",
    "                                                              get(r, [\"items\", 0, \"municipality\", \"id\"]))\n",
    "\n",
    "addresses_seq"
   ]
  },
  {
   "cell_type": "code",
   "execution_count": null,
   "metadata": {},
   "outputs": [],
   "source": [
    "# Results with no address id\n",
    "addresses_seq[addresses_seq.json.apply(lambda r: get(r, [\"items\", 0, \"bestId\"])).isnull()]"
   ]
  },
  {
   "cell_type": "code",
   "execution_count": null,
   "metadata": {
    "ExecuteTime": {
     "end_time": "2023-06-23T09:27:56.573736Z",
     "start_time": "2023-06-23T09:27:56.558368Z"
    },
    "scrolled": true
   },
   "outputs": [],
   "source": [
    "# timing = addresses_seq[[\"dataset\"]].copy()\n",
    "addresses_seq[\"time\"] =addresses_seq.json.apply(lambda j: j[\"time\"] if j else None) \n",
    "addresses_seq[\"method\"] =addresses_seq.json.apply(lambda j: (j[\"transformers\"]+\"-\"+j[\"callType\"]) if j else None) \n",
    "\n",
    "addresses_seq"
   ]
  },
  {
   "cell_type": "code",
   "execution_count": null,
   "metadata": {},
   "outputs": [],
   "source": [
    "# addresses_seq.iloc[0].json[\"bepelias\"]#[\"call_type\"]\n",
    "addresses_seq.time.describe()"
   ]
  },
  {
   "cell_type": "code",
   "execution_count": null,
   "metadata": {
    "ExecuteTime": {
     "end_time": "2023-06-23T09:27:56.874832Z",
     "start_time": "2023-06-23T09:27:56.764409Z"
    }
   },
   "outputs": [],
   "source": [
    "(addresses_seq.groupby(\"method\").time.mean()).plot.bar(title=\"Avg call duration\")"
   ]
  },
  {
   "cell_type": "code",
   "execution_count": null,
   "metadata": {},
   "outputs": [],
   "source": [
    "\n",
    "addresses_seq[[\"time\"]].boxplot()"
   ]
  },
  {
   "cell_type": "markdown",
   "metadata": {
    "ExecuteTime": {
     "end_time": "2020-09-30T10:03:50.368838Z",
     "start_time": "2020-09-30T10:03:50.364575Z"
    }
   },
   "source": [
    "### Using Dask"
   ]
  },
  {
   "cell_type": "code",
   "execution_count": 20,
   "metadata": {
    "ExecuteTime": {
     "end_time": "2023-06-23T09:28:02.385665Z",
     "start_time": "2023-06-23T09:28:02.335452Z"
    }
   },
   "outputs": [],
   "source": [
    "addresses_dask = addresses.copy()"
   ]
  },
  {
   "cell_type": "code",
   "execution_count": null,
   "metadata": {
    "ExecuteTime": {
     "end_time": "2023-06-23T09:28:33.847167Z",
     "start_time": "2023-06-23T09:28:02.439330Z"
    }
   },
   "outputs": [],
   "source": [
    "t = datetime.now()\n",
    "dd_addresses = dd.from_pandas(addresses_dask.fillna(\"\"), npartitions=32)\n",
    "\n",
    "dask_task = dd_addresses[[street_field, housenbr_field, postcode_field, city_field]].apply(call_ws, meta=('x', 'str'), axis=1)\n",
    "\n",
    "with ProgressBar(): \n",
    "    addresses_dask[\"json\"] = dask_task.compute()\n",
    "    \n",
    "\n",
    "tot_time = (datetime.now() - t).total_seconds()\n",
    "\n",
    "ips=addresses_dask.shape[0]/tot_time\n",
    "iter_per_sec_stats[\"dask\"] = ips\n",
    "print(f\"{tot_time:.2f} seconds, {ips:.2f} it/s, {ips*3600:.0f} it/h\")\n"
   ]
  },
  {
   "cell_type": "code",
   "execution_count": null,
   "metadata": {},
   "outputs": [],
   "source": [
    "# addresses_dask[\"best_id\"] = addresses_dask.json.apply(lambda r: r[\"features\"][0][\"properties\"][\"id\"] if r and len(r[\"features\"])>0 else None )\n",
    "addresses_dask[\"best_id\"] = addresses_dask.json.apply(lambda r: get(r, [\"items\", 0, \"bestId\"]) or\\\n",
    "                                                              get(r, [\"items\", 0, \"street\", \"id\"]) or\\\n",
    "                                                              get(r, [\"items\", 0, \"municipality\", \"id\"]))\n",
    "\n",
    "addresses_dask"
   ]
  },
  {
   "cell_type": "code",
   "execution_count": null,
   "metadata": {
    "ExecuteTime": {
     "end_time": "2023-06-23T09:28:37.301386Z",
     "start_time": "2023-06-23T09:28:37.241806Z"
    }
   },
   "outputs": [],
   "source": [
    "mg = addresses_dask.drop(columns=\"json\").merge(addresses_seq.drop(columns=\"json\"), how=\"outer\", indicator=True)\n",
    "if mg.shape[0] == addresses.shape[0]:\n",
    "    print(\"Same result in seq and dask run!\")\n",
    "else: \n",
    "    print(\"!!! Not the same result in seq and dask run!\")\n",
    "    "
   ]
  },
  {
   "cell_type": "markdown",
   "metadata": {},
   "source": [
    "# Test modes"
   ]
  },
  {
   "cell_type": "code",
   "execution_count": 24,
   "metadata": {},
   "outputs": [],
   "source": [
    "addresses_mode = addresses.copy()"
   ]
  },
  {
   "cell_type": "code",
   "execution_count": null,
   "metadata": {
    "tags": []
   },
   "outputs": [],
   "source": [
    "for mode in [\"basic\", \"simple\", \"advanced\"]:\n",
    "    print(mode)\n",
    "    t = datetime.now()\n",
    "    dd_addresses = dd.from_pandas(addresses_mode.fillna(\"\"), npartitions=32)\n",
    "\n",
    "    dask_task = dd_addresses[[street_field, housenbr_field, postcode_field, city_field]].apply(call_ws, meta=('x', 'str'), mode=mode, axis=1)\n",
    "\n",
    "    with ProgressBar(): \n",
    "        addresses_mode[f\"json_{mode}\"] = dask_task.compute()\n",
    "\n",
    "\n",
    "    tot_time = (datetime.now() - t).total_seconds()\n",
    "\n",
    "    ips=addresses_dask.shape[0]/tot_time\n",
    "    iter_per_sec_stats[\"dask\"] = ips\n",
    "\n",
    "    addresses_mode[f\"precision_{mode}\"] = addresses_mode[f\"json_{mode}\"].apply(lambda r: get(r, [\"items\", 0, \"precision\"])).fillna(\"[no result]\")\n",
    "\n",
    "    addresses_mode[f\"time_{mode}\"] =addresses_mode[f\"json_{mode}\"].apply(lambda j: j[\"time\"] if j else None) \n",
    "\n",
    "\n",
    "    print(f\"{tot_time:.2f} seconds, {ips:.2f} it/s, {ips*3600:.0f} it/h\")\n"
   ]
  },
  {
   "cell_type": "markdown",
   "metadata": {},
   "source": [
    "## Match rate"
   ]
  },
  {
   "cell_type": "code",
   "execution_count": 26,
   "metadata": {},
   "outputs": [],
   "source": [
    "# addresses_mode[[\"precision_basic\", \"precision_simple\", \"precision_advanced\"]].unstack().reset_index().groupby([\"level_0\", 0]).level_1.count()#[0].value_counts().plot.bar(stacked=True)"
   ]
  },
  {
   "cell_type": "code",
   "execution_count": null,
   "metadata": {},
   "outputs": [],
   "source": [
    "precision = addresses_mode[[\"precision_basic\", \"precision_simple\", \"precision_advanced\"]].unstack().rename(\"precision\").reset_index()#.groupby([\"level_0\"])[0].value_counts().unstack().plot.barh(stacked=True)\n",
    "precision[\"precision_short\"] = precision[\"precision\"].map({\n",
    "            \"address\":              \"building\",\n",
    "            \"address_00\":           \"country\",\n",
    "            \"address_streetcenter\": \"street\",\n",
    "            \"address_interpol\":     \"building\",\n",
    "            \"street_interpol\":      \"building\",\n",
    "            \"street_00\":            \"country\",\n",
    "            \"street\":               \"street\",\n",
    "            \"city\":                 \"city\",\n",
    "            \"country\":              \"country\",\n",
    "        }).fillna(\"[no res]\")\n",
    "precision = precision.rename(columns={\"level_0\":\"mode\"})\n",
    "precision[\"mode\"] = precision[\"mode\"].str.split(\"_\").str[1]\n",
    "precision"
   ]
  },
  {
   "cell_type": "code",
   "execution_count": null,
   "metadata": {},
   "outputs": [],
   "source": [
    "vc = precision.groupby([\"mode\"]).precision_short.value_counts().unstack()\n",
    "vc = vc.reindex([\"building\", \"street\", \"city\", \"[no res]\"], axis=1)\n",
    "vc.plot.barh(stacked=True, color=[\"tab:green\", \"tab:orange\", \"tab:red\", \"tab:grey\"])"
   ]
  },
  {
   "cell_type": "code",
   "execution_count": null,
   "metadata": {},
   "outputs": [],
   "source": [
    "vc/addresses.shape[0]*100"
   ]
  },
  {
   "cell_type": "markdown",
   "metadata": {},
   "source": [
    "## Timing"
   ]
  },
  {
   "cell_type": "code",
   "execution_count": null,
   "metadata": {},
   "outputs": [],
   "source": [
    "addresses_mode[[\"time_basic\", \"time_simple\", \"time_advanced\"]].boxplot()"
   ]
  },
  {
   "cell_type": "code",
   "execution_count": null,
   "metadata": {},
   "outputs": [],
   "source": [
    "timing = addresses_mode[[\"time_basic\", \"time_simple\", \"time_advanced\"]].unstack().rename(\"time\").reset_index()\n",
    "timing = timing.rename(columns={\"level_0\":\"mode\"})\n",
    "timing[\"mode\"] = timing[\"mode\"].str.split(\"_\").str[1]\n",
    "timing"
   ]
  },
  {
   "cell_type": "code",
   "execution_count": null,
   "metadata": {},
   "outputs": [],
   "source": [
    "timing.groupby(\"mode\").time.describe()"
   ]
  },
  {
   "cell_type": "code",
   "execution_count": null,
   "metadata": {},
   "outputs": [],
   "source": [
    "try:\n",
    "    sbn.histplot(timing, x=\"time\", hue=\"mode\", element=\"poly\")\n",
    "except NameError:\n",
    "    print(\"Seaborn is not installed, cannot plot this histogram\")"
   ]
  },
  {
   "cell_type": "code",
   "execution_count": null,
   "metadata": {},
   "outputs": [],
   "source": [
    "addresses_mode[addresses_mode.precision_simple==\"[no result]\"]\n"
   ]
  },
  {
   "cell_type": "code",
   "execution_count": null,
   "metadata": {},
   "outputs": [],
   "source": [
    "addresses_mode.json_basic.apply(lambda x: x[\"peliasRaw\"][\"features\"][0][\"properties\"][\"source\"] if len(x[\"peliasRaw\"][\"features\"])>0 else \"NONE\").value_counts()\n",
    "\n",
    "# res"
   ]
  },
  {
   "cell_type": "code",
   "execution_count": null,
   "metadata": {},
   "outputs": [],
   "source": [
    "addresses_mode.json_simple.apply(lambda x: x[\"peliasRaw\"][\"features\"][0][\"properties\"][\"source\"] if len(x[\"peliasRaw\"][\"features\"])>0 else \"NONE\").value_counts()"
   ]
  },
  {
   "cell_type": "code",
   "execution_count": null,
   "metadata": {},
   "outputs": [],
   "source": [
    "addresses_mode.json_advanced.apply(lambda x: x[\"peliasRaw\"][\"features\"][0][\"properties\"][\"source\"] if len(x[\"peliasRaw\"][\"features\"])>0 else \"NONE\").value_counts()"
   ]
  },
  {
   "cell_type": "code",
   "execution_count": null,
   "metadata": {},
   "outputs": [],
   "source": []
  },
  {
   "cell_type": "markdown",
   "metadata": {},
   "source": [
    "# Get By ID"
   ]
  },
  {
   "cell_type": "code",
   "execution_count": null,
   "metadata": {},
   "outputs": [],
   "source": [
    "addresses_seq[\"json_from_id\"] = addresses_seq[\"best_id\"].progress_apply(call_ws_by_id)"
   ]
  },
  {
   "cell_type": "code",
   "execution_count": null,
   "metadata": {},
   "outputs": [],
   "source": [
    "addresses_seq[\"json_from_id\"]"
   ]
  },
  {
   "cell_type": "code",
   "execution_count": 149,
   "metadata": {},
   "outputs": [],
   "source": [
    "x = addresses_seq.json_from_id.apply(lambda r: get(r, [\"items\", 0, \"bestId\"]) or \\\n",
    "                                               get(r, [\"items\", 0, \"street\", \"id\"]) or \\\n",
    "                                               get(r, [\"items\", 0, \"municipality\", \"id\"]))\n"
   ]
  },
  {
   "cell_type": "code",
   "execution_count": null,
   "metadata": {},
   "outputs": [],
   "source": [
    "addresses_seq[addresses_seq.best_id != x]"
   ]
  },
  {
   "cell_type": "markdown",
   "metadata": {},
   "source": [
    "# Search city"
   ]
  },
  {
   "cell_type": "code",
   "execution_count": null,
   "metadata": {},
   "outputs": [],
   "source": [
    "addresses_seq.postCode.progress_apply(lambda r: call_ws_search_city(postcode=r))"
   ]
  },
  {
   "cell_type": "code",
   "execution_count": null,
   "metadata": {},
   "outputs": [],
   "source": [
    "addresses_seq.postName.progress_apply(lambda r: call_ws_search_city(postname=r))"
   ]
  },
  {
   "cell_type": "code",
   "execution_count": null,
   "metadata": {},
   "outputs": [],
   "source": [
    "addresses_seq.progress_apply(lambda r: call_ws_search_city(postname=r.postName, postcode=r.postCode), axis=1)"
   ]
  },
  {
   "cell_type": "markdown",
   "metadata": {},
   "source": [
    "# Reverse"
   ]
  },
  {
   "cell_type": "code",
   "execution_count": null,
   "metadata": {},
   "outputs": [],
   "source": [
    "addresses_seq[\"json_from_reverse\"] = addresses_seq.json.progress_apply(lambda r: call_ws_reverse(**get(r, [\"items\", 0, \"coordinates\"])))"
   ]
  },
  {
   "cell_type": "code",
   "execution_count": null,
   "metadata": {},
   "outputs": [],
   "source": [
    "addresses_seq"
   ]
  },
  {
   "cell_type": "code",
   "execution_count": null,
   "metadata": {},
   "outputs": [],
   "source": [
    "addresses_seq[\"best_id_from_reverse\"] = addresses_seq.json_from_reverse.apply(lambda r: get(r, [\"items\", 0, \"bestId\"]) or\\\n",
    "                                                              get(r, [\"items\", 0, \"street\", \"id\"]) or\\\n",
    "                                                              get(r, [\"items\", 0, \"municipality\", \"id\"]))\n",
    "\n",
    "addresses_seq"
   ]
  },
  {
   "cell_type": "code",
   "execution_count": null,
   "metadata": {},
   "outputs": [],
   "source": [
    "# Mismatch OK if:\n",
    "# - primary result (in json) if not \"address\" level (streetname, city...)\n",
    "# - coordinates are interpolated (precision='address_streetcenter', 'address_interpol', ...)\n",
    "# - best_id is null (and by chance we find an Best address in the coordinates given by WhosOnFirst)\n",
    "# - several addresses with the same coordinates\n",
    "\n",
    "addresses_seq[addresses_seq.best_id != addresses_seq.best_id_from_reverse]#.iloc[0:60]"
   ]
  }
 ],
 "metadata": {
  "kernelspec": {
   "display_name": "bepelias",
   "language": "python",
   "name": "python3"
  },
  "language_info": {
   "codemirror_mode": {
    "name": "ipython",
    "version": 3
   },
   "file_extension": ".py",
   "mimetype": "text/x-python",
   "name": "python",
   "nbconvert_exporter": "python",
   "pygments_lexer": "ipython3",
   "version": "3.9.20"
  },
  "toc": {
   "base_numbering": 1,
   "nav_menu": {},
   "number_sections": true,
   "sideBar": true,
   "skip_h1_title": false,
   "title_cell": "Table of Contents",
   "title_sidebar": "Contents",
   "toc_cell": false,
   "toc_position": {
    "height": "calc(100% - 180px)",
    "left": "10px",
    "top": "150px",
    "width": "304px"
   },
   "toc_section_display": true,
   "toc_window_display": true
  },
  "varInspector": {
   "cols": {
    "lenName": 16,
    "lenType": 16,
    "lenVar": 40
   },
   "kernels_config": {
    "python": {
     "delete_cmd_postfix": "",
     "delete_cmd_prefix": "del ",
     "library": "var_list.py",
     "varRefreshCmd": "print(var_dic_list())"
    },
    "r": {
     "delete_cmd_postfix": ") ",
     "delete_cmd_prefix": "rm(",
     "library": "var_list.r",
     "varRefreshCmd": "cat(var_dic_list()) "
    }
   },
   "types_to_exclude": [
    "module",
    "function",
    "builtin_function_or_method",
    "instance",
    "_Feature"
   ],
   "window_display": false
  }
 },
 "nbformat": 4,
 "nbformat_minor": 4
}
